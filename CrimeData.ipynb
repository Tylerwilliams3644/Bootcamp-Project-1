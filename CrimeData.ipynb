{
 "cells": [
  {
   "cell_type": "code",
   "execution_count": 2,
   "metadata": {},
   "outputs": [],
   "source": [
    "import pandas as pd\n",
    "import numpy as np"
   ]
  },
  {
   "cell_type": "markdown",
   "metadata": {},
   "source": [
    "Property Crimes Cleanup"
   ]
  },
  {
   "cell_type": "code",
   "execution_count": 3,
   "metadata": {},
   "outputs": [
    {
     "ename": "FileNotFoundError",
     "evalue": "[Errno 2] No such file or directory: 'Crimes_Against_Property_Offenses_Offense_Category_by_State_2020.csv'",
     "output_type": "error",
     "traceback": [
      "\u001b[1;31m---------------------------------------------------------------------------\u001b[0m",
      "\u001b[1;31mFileNotFoundError\u001b[0m                         Traceback (most recent call last)",
      "\u001b[1;32mc:\\Users\\ianro\\OneDrive\\Documents\\Bootcamp\\UofU-VIRT-DATA-PT-10-2023-U-LOLC\\08-Project-1-Week-2\\1\\Activities\\01-Evr_Installations\\Resources\\CrimeData.ipynb Cell 3\u001b[0m line \u001b[0;36m1\n\u001b[1;32m----> <a href='vscode-notebook-cell:/c%3A/Users/ianro/OneDrive/Documents/Bootcamp/UofU-VIRT-DATA-PT-10-2023-U-LOLC/08-Project-1-Week-2/1/Activities/01-Evr_Installations/Resources/CrimeData.ipynb#W2sZmlsZQ%3D%3D?line=0'>1</a>\u001b[0m property_crimes_2020 \u001b[39m=\u001b[39m pd\u001b[39m.\u001b[39mread_csv(\u001b[39m'\u001b[39m\u001b[39mCrimes_Against_Property_Offenses_Offense_Category_by_State_2020.csv\u001b[39m\u001b[39m'\u001b[39m, usecols\u001b[39m=\u001b[39m[\u001b[39m'\u001b[39m\u001b[39mState\u001b[39m\u001b[39m'\u001b[39m, \u001b[39m'\u001b[39m\u001b[39mTotal Offenses\u001b[39m\u001b[39m'\u001b[39m])\n\u001b[0;32m      <a href='vscode-notebook-cell:/c%3A/Users/ianro/OneDrive/Documents/Bootcamp/UofU-VIRT-DATA-PT-10-2023-U-LOLC/08-Project-1-Week-2/1/Activities/01-Evr_Installations/Resources/CrimeData.ipynb#W2sZmlsZQ%3D%3D?line=1'>2</a>\u001b[0m property_crimes_2020\u001b[39m.\u001b[39mrename(columns\u001b[39m=\u001b[39m{\u001b[39m'\u001b[39m\u001b[39mTotal Offenses\u001b[39m\u001b[39m'\u001b[39m: \u001b[39m'\u001b[39m\u001b[39mProperty Offenses 2020\u001b[39m\u001b[39m'\u001b[39m}, inplace\u001b[39m=\u001b[39m\u001b[39mTrue\u001b[39;00m)\n\u001b[0;32m      <a href='vscode-notebook-cell:/c%3A/Users/ianro/OneDrive/Documents/Bootcamp/UofU-VIRT-DATA-PT-10-2023-U-LOLC/08-Project-1-Week-2/1/Activities/01-Evr_Installations/Resources/CrimeData.ipynb#W2sZmlsZQ%3D%3D?line=3'>4</a>\u001b[0m property_crimes_2021 \u001b[39m=\u001b[39m pd\u001b[39m.\u001b[39mread_csv(\u001b[39m'\u001b[39m\u001b[39mCrimes_Against_Property_Offenses_Offense_Category_by_State_2021.csv\u001b[39m\u001b[39m'\u001b[39m, usecols\u001b[39m=\u001b[39m[\u001b[39m'\u001b[39m\u001b[39mState\u001b[39m\u001b[39m'\u001b[39m, \u001b[39m'\u001b[39m\u001b[39mTotal Offenses\u001b[39m\u001b[39m'\u001b[39m])\n",
      "File \u001b[1;32mc:\\Users\\ianro\\anaconda3\\Lib\\site-packages\\pandas\\io\\parsers\\readers.py:948\u001b[0m, in \u001b[0;36mread_csv\u001b[1;34m(filepath_or_buffer, sep, delimiter, header, names, index_col, usecols, dtype, engine, converters, true_values, false_values, skipinitialspace, skiprows, skipfooter, nrows, na_values, keep_default_na, na_filter, verbose, skip_blank_lines, parse_dates, infer_datetime_format, keep_date_col, date_parser, date_format, dayfirst, cache_dates, iterator, chunksize, compression, thousands, decimal, lineterminator, quotechar, quoting, doublequote, escapechar, comment, encoding, encoding_errors, dialect, on_bad_lines, delim_whitespace, low_memory, memory_map, float_precision, storage_options, dtype_backend)\u001b[0m\n\u001b[0;32m    935\u001b[0m kwds_defaults \u001b[39m=\u001b[39m _refine_defaults_read(\n\u001b[0;32m    936\u001b[0m     dialect,\n\u001b[0;32m    937\u001b[0m     delimiter,\n\u001b[1;32m   (...)\u001b[0m\n\u001b[0;32m    944\u001b[0m     dtype_backend\u001b[39m=\u001b[39mdtype_backend,\n\u001b[0;32m    945\u001b[0m )\n\u001b[0;32m    946\u001b[0m kwds\u001b[39m.\u001b[39mupdate(kwds_defaults)\n\u001b[1;32m--> 948\u001b[0m \u001b[39mreturn\u001b[39;00m _read(filepath_or_buffer, kwds)\n",
      "File \u001b[1;32mc:\\Users\\ianro\\anaconda3\\Lib\\site-packages\\pandas\\io\\parsers\\readers.py:611\u001b[0m, in \u001b[0;36m_read\u001b[1;34m(filepath_or_buffer, kwds)\u001b[0m\n\u001b[0;32m    608\u001b[0m _validate_names(kwds\u001b[39m.\u001b[39mget(\u001b[39m\"\u001b[39m\u001b[39mnames\u001b[39m\u001b[39m\"\u001b[39m, \u001b[39mNone\u001b[39;00m))\n\u001b[0;32m    610\u001b[0m \u001b[39m# Create the parser.\u001b[39;00m\n\u001b[1;32m--> 611\u001b[0m parser \u001b[39m=\u001b[39m TextFileReader(filepath_or_buffer, \u001b[39m*\u001b[39m\u001b[39m*\u001b[39mkwds)\n\u001b[0;32m    613\u001b[0m \u001b[39mif\u001b[39;00m chunksize \u001b[39mor\u001b[39;00m iterator:\n\u001b[0;32m    614\u001b[0m     \u001b[39mreturn\u001b[39;00m parser\n",
      "File \u001b[1;32mc:\\Users\\ianro\\anaconda3\\Lib\\site-packages\\pandas\\io\\parsers\\readers.py:1448\u001b[0m, in \u001b[0;36mTextFileReader.__init__\u001b[1;34m(self, f, engine, **kwds)\u001b[0m\n\u001b[0;32m   1445\u001b[0m     \u001b[39mself\u001b[39m\u001b[39m.\u001b[39moptions[\u001b[39m\"\u001b[39m\u001b[39mhas_index_names\u001b[39m\u001b[39m\"\u001b[39m] \u001b[39m=\u001b[39m kwds[\u001b[39m\"\u001b[39m\u001b[39mhas_index_names\u001b[39m\u001b[39m\"\u001b[39m]\n\u001b[0;32m   1447\u001b[0m \u001b[39mself\u001b[39m\u001b[39m.\u001b[39mhandles: IOHandles \u001b[39m|\u001b[39m \u001b[39mNone\u001b[39;00m \u001b[39m=\u001b[39m \u001b[39mNone\u001b[39;00m\n\u001b[1;32m-> 1448\u001b[0m \u001b[39mself\u001b[39m\u001b[39m.\u001b[39m_engine \u001b[39m=\u001b[39m \u001b[39mself\u001b[39m\u001b[39m.\u001b[39m_make_engine(f, \u001b[39mself\u001b[39m\u001b[39m.\u001b[39mengine)\n",
      "File \u001b[1;32mc:\\Users\\ianro\\anaconda3\\Lib\\site-packages\\pandas\\io\\parsers\\readers.py:1705\u001b[0m, in \u001b[0;36mTextFileReader._make_engine\u001b[1;34m(self, f, engine)\u001b[0m\n\u001b[0;32m   1703\u001b[0m     \u001b[39mif\u001b[39;00m \u001b[39m\"\u001b[39m\u001b[39mb\u001b[39m\u001b[39m\"\u001b[39m \u001b[39mnot\u001b[39;00m \u001b[39min\u001b[39;00m mode:\n\u001b[0;32m   1704\u001b[0m         mode \u001b[39m+\u001b[39m\u001b[39m=\u001b[39m \u001b[39m\"\u001b[39m\u001b[39mb\u001b[39m\u001b[39m\"\u001b[39m\n\u001b[1;32m-> 1705\u001b[0m \u001b[39mself\u001b[39m\u001b[39m.\u001b[39mhandles \u001b[39m=\u001b[39m get_handle(\n\u001b[0;32m   1706\u001b[0m     f,\n\u001b[0;32m   1707\u001b[0m     mode,\n\u001b[0;32m   1708\u001b[0m     encoding\u001b[39m=\u001b[39m\u001b[39mself\u001b[39m\u001b[39m.\u001b[39moptions\u001b[39m.\u001b[39mget(\u001b[39m\"\u001b[39m\u001b[39mencoding\u001b[39m\u001b[39m\"\u001b[39m, \u001b[39mNone\u001b[39;00m),\n\u001b[0;32m   1709\u001b[0m     compression\u001b[39m=\u001b[39m\u001b[39mself\u001b[39m\u001b[39m.\u001b[39moptions\u001b[39m.\u001b[39mget(\u001b[39m\"\u001b[39m\u001b[39mcompression\u001b[39m\u001b[39m\"\u001b[39m, \u001b[39mNone\u001b[39;00m),\n\u001b[0;32m   1710\u001b[0m     memory_map\u001b[39m=\u001b[39m\u001b[39mself\u001b[39m\u001b[39m.\u001b[39moptions\u001b[39m.\u001b[39mget(\u001b[39m\"\u001b[39m\u001b[39mmemory_map\u001b[39m\u001b[39m\"\u001b[39m, \u001b[39mFalse\u001b[39;00m),\n\u001b[0;32m   1711\u001b[0m     is_text\u001b[39m=\u001b[39mis_text,\n\u001b[0;32m   1712\u001b[0m     errors\u001b[39m=\u001b[39m\u001b[39mself\u001b[39m\u001b[39m.\u001b[39moptions\u001b[39m.\u001b[39mget(\u001b[39m\"\u001b[39m\u001b[39mencoding_errors\u001b[39m\u001b[39m\"\u001b[39m, \u001b[39m\"\u001b[39m\u001b[39mstrict\u001b[39m\u001b[39m\"\u001b[39m),\n\u001b[0;32m   1713\u001b[0m     storage_options\u001b[39m=\u001b[39m\u001b[39mself\u001b[39m\u001b[39m.\u001b[39moptions\u001b[39m.\u001b[39mget(\u001b[39m\"\u001b[39m\u001b[39mstorage_options\u001b[39m\u001b[39m\"\u001b[39m, \u001b[39mNone\u001b[39;00m),\n\u001b[0;32m   1714\u001b[0m )\n\u001b[0;32m   1715\u001b[0m \u001b[39massert\u001b[39;00m \u001b[39mself\u001b[39m\u001b[39m.\u001b[39mhandles \u001b[39mis\u001b[39;00m \u001b[39mnot\u001b[39;00m \u001b[39mNone\u001b[39;00m\n\u001b[0;32m   1716\u001b[0m f \u001b[39m=\u001b[39m \u001b[39mself\u001b[39m\u001b[39m.\u001b[39mhandles\u001b[39m.\u001b[39mhandle\n",
      "File \u001b[1;32mc:\\Users\\ianro\\anaconda3\\Lib\\site-packages\\pandas\\io\\common.py:863\u001b[0m, in \u001b[0;36mget_handle\u001b[1;34m(path_or_buf, mode, encoding, compression, memory_map, is_text, errors, storage_options)\u001b[0m\n\u001b[0;32m    858\u001b[0m \u001b[39melif\u001b[39;00m \u001b[39misinstance\u001b[39m(handle, \u001b[39mstr\u001b[39m):\n\u001b[0;32m    859\u001b[0m     \u001b[39m# Check whether the filename is to be opened in binary mode.\u001b[39;00m\n\u001b[0;32m    860\u001b[0m     \u001b[39m# Binary mode does not support 'encoding' and 'newline'.\u001b[39;00m\n\u001b[0;32m    861\u001b[0m     \u001b[39mif\u001b[39;00m ioargs\u001b[39m.\u001b[39mencoding \u001b[39mand\u001b[39;00m \u001b[39m\"\u001b[39m\u001b[39mb\u001b[39m\u001b[39m\"\u001b[39m \u001b[39mnot\u001b[39;00m \u001b[39min\u001b[39;00m ioargs\u001b[39m.\u001b[39mmode:\n\u001b[0;32m    862\u001b[0m         \u001b[39m# Encoding\u001b[39;00m\n\u001b[1;32m--> 863\u001b[0m         handle \u001b[39m=\u001b[39m \u001b[39mopen\u001b[39m(\n\u001b[0;32m    864\u001b[0m             handle,\n\u001b[0;32m    865\u001b[0m             ioargs\u001b[39m.\u001b[39mmode,\n\u001b[0;32m    866\u001b[0m             encoding\u001b[39m=\u001b[39mioargs\u001b[39m.\u001b[39mencoding,\n\u001b[0;32m    867\u001b[0m             errors\u001b[39m=\u001b[39merrors,\n\u001b[0;32m    868\u001b[0m             newline\u001b[39m=\u001b[39m\u001b[39m\"\u001b[39m\u001b[39m\"\u001b[39m,\n\u001b[0;32m    869\u001b[0m         )\n\u001b[0;32m    870\u001b[0m     \u001b[39melse\u001b[39;00m:\n\u001b[0;32m    871\u001b[0m         \u001b[39m# Binary mode\u001b[39;00m\n\u001b[0;32m    872\u001b[0m         handle \u001b[39m=\u001b[39m \u001b[39mopen\u001b[39m(handle, ioargs\u001b[39m.\u001b[39mmode)\n",
      "\u001b[1;31mFileNotFoundError\u001b[0m: [Errno 2] No such file or directory: 'Crimes_Against_Property_Offenses_Offense_Category_by_State_2020.csv'"
     ]
    }
   ],
   "source": [
    "property_crimes_2020 = pd.read_csv('Crimes_Against_Property_Offenses_Offense_Category_by_State_2020.csv', usecols=['State', 'Total Offenses'])\n",
    "property_crimes_2020.rename(columns={'Total Offenses': 'Property Offenses 2020'}, inplace=True)\n",
    "\n",
    "property_crimes_2021 = pd.read_csv('Crimes_Against_Property_Offenses_Offense_Category_by_State_2021.csv', usecols=['State', 'Total Offenses'])\n",
    "property_crimes_2021.rename(columns={'Total Offenses': 'Property Offenses 2021'}, inplace=True)\n",
    "\n",
    "property_crimes_2022 = pd.read_csv('Crimes_Against_Property_Offenses_Offense_Category_by_State_2022.csv', usecols=['State', 'Total Offenses'])\n",
    "property_crimes_2022.rename(columns={'Total Offenses': 'Property Offenses 2022'}, inplace=True)  \n"
   ]
  },
  {
   "cell_type": "code",
   "execution_count": null,
   "metadata": {},
   "outputs": [
    {
     "data": {
      "text/html": [
       "<div>\n",
       "<style scoped>\n",
       "    .dataframe tbody tr th:only-of-type {\n",
       "        vertical-align: middle;\n",
       "    }\n",
       "\n",
       "    .dataframe tbody tr th {\n",
       "        vertical-align: top;\n",
       "    }\n",
       "\n",
       "    .dataframe thead th {\n",
       "        text-align: right;\n",
       "    }\n",
       "</style>\n",
       "<table border=\"1\" class=\"dataframe\">\n",
       "  <thead>\n",
       "    <tr style=\"text-align: right;\">\n",
       "      <th></th>\n",
       "      <th>State</th>\n",
       "      <th>Property Offenses 2020</th>\n",
       "      <th>Property Offenses 2021</th>\n",
       "      <th>Property Offenses 2022</th>\n",
       "    </tr>\n",
       "  </thead>\n",
       "  <tbody>\n",
       "    <tr>\n",
       "      <th>0</th>\n",
       "      <td>Total</td>\n",
       "      <td>5,371,269</td>\n",
       "      <td>6,531,976</td>\n",
       "      <td>7,849,624</td>\n",
       "    </tr>\n",
       "    <tr>\n",
       "      <th>1</th>\n",
       "      <td>Alabama</td>\n",
       "      <td>7,981</td>\n",
       "      <td>122,274</td>\n",
       "      <td>130,599</td>\n",
       "    </tr>\n",
       "    <tr>\n",
       "      <th>2</th>\n",
       "      <td>Arizona</td>\n",
       "      <td>47,284</td>\n",
       "      <td>104,648</td>\n",
       "      <td>127,557</td>\n",
       "    </tr>\n",
       "    <tr>\n",
       "      <th>3</th>\n",
       "      <td>Arkansas</td>\n",
       "      <td>135,509</td>\n",
       "      <td>123,785</td>\n",
       "      <td>119,718</td>\n",
       "    </tr>\n",
       "    <tr>\n",
       "      <th>4</th>\n",
       "      <td>Colorado</td>\n",
       "      <td>257,623</td>\n",
       "      <td>295,735</td>\n",
       "      <td>284,165</td>\n",
       "    </tr>\n",
       "  </tbody>\n",
       "</table>\n",
       "</div>"
      ],
      "text/plain": [
       "      State Property Offenses 2020 Property Offenses 2021  \\\n",
       "0     Total              5,371,269              6,531,976   \n",
       "1   Alabama                  7,981                122,274   \n",
       "2   Arizona                 47,284                104,648   \n",
       "3  Arkansas                135,509                123,785   \n",
       "4  Colorado                257,623                295,735   \n",
       "\n",
       "  Property Offenses 2022  \n",
       "0              7,849,624  \n",
       "1                130,599  \n",
       "2                127,557  \n",
       "3                119,718  \n",
       "4                284,165  "
      ]
     },
     "execution_count": 65,
     "metadata": {},
     "output_type": "execute_result"
    }
   ],
   "source": [
    "property_crimes_21_22 = pd.merge(property_crimes_2020, property_crimes_2021, on='State')\n",
    "\n",
    "property_crimes_final = pd.merge(property_crimes_21_22, property_crimes_2022, on='State')\n",
    "\n",
    "property_crimes_final.head()"
   ]
  },
  {
   "cell_type": "markdown",
   "metadata": {},
   "source": [
    "Person Crimes Cleanup"
   ]
  },
  {
   "cell_type": "code",
   "execution_count": null,
   "metadata": {},
   "outputs": [],
   "source": [
    "person_crimes_2020 = pd.read_csv('Crimes_Against_Persons_Offenses_Offense_Category_by_State_2020.csv', usecols=['State', 'Person Offenses'])\n",
    "person_crimes_2020.rename(columns={'Person Offenses': 'Person Offenses 2020'}, inplace=True)\n",
    "\n",
    "person_crimes_2021 = pd.read_csv('Crimes_Against_Persons_Offenses_Offense_Category_by_State_2021.csv', usecols=['State', 'Person Offenses'])\n",
    "person_crimes_2021.rename(columns={'Person Offenses': 'Person Offenses 2021'}, inplace=True)\n",
    "\n",
    "person_crimes_2022 = pd.read_csv('Crimes_Against_Persons_Offenses_Offense_Category_by_State_2022.csv', usecols=['State', 'Person Offenses'])\n",
    "person_crimes_2022.rename(columns={'Person Offenses': 'Person Offenses 2022'}, inplace=True)\n"
   ]
  },
  {
   "cell_type": "code",
   "execution_count": null,
   "metadata": {},
   "outputs": [
    {
     "data": {
      "text/html": [
       "<div>\n",
       "<style scoped>\n",
       "    .dataframe tbody tr th:only-of-type {\n",
       "        vertical-align: middle;\n",
       "    }\n",
       "\n",
       "    .dataframe tbody tr th {\n",
       "        vertical-align: top;\n",
       "    }\n",
       "\n",
       "    .dataframe thead th {\n",
       "        text-align: right;\n",
       "    }\n",
       "</style>\n",
       "<table border=\"1\" class=\"dataframe\">\n",
       "  <thead>\n",
       "    <tr style=\"text-align: right;\">\n",
       "      <th></th>\n",
       "      <th>State</th>\n",
       "      <th>Person Offenses 2020</th>\n",
       "      <th>Person Offenses 2021</th>\n",
       "      <th>Property Offenses 2022</th>\n",
       "    </tr>\n",
       "  </thead>\n",
       "  <tbody>\n",
       "    <tr>\n",
       "      <th>0</th>\n",
       "      <td>Total</td>\n",
       "      <td>2,235,280</td>\n",
       "      <td>2,939,412</td>\n",
       "      <td>7,849,624</td>\n",
       "    </tr>\n",
       "    <tr>\n",
       "      <th>1</th>\n",
       "      <td>Alabama</td>\n",
       "      <td>4,384</td>\n",
       "      <td>70,855</td>\n",
       "      <td>130,599</td>\n",
       "    </tr>\n",
       "    <tr>\n",
       "      <th>2</th>\n",
       "      <td>Arizona</td>\n",
       "      <td>18,440</td>\n",
       "      <td>45,372</td>\n",
       "      <td>127,557</td>\n",
       "    </tr>\n",
       "    <tr>\n",
       "      <th>3</th>\n",
       "      <td>Arkansas</td>\n",
       "      <td>63,893</td>\n",
       "      <td>66,379</td>\n",
       "      <td>119,718</td>\n",
       "    </tr>\n",
       "    <tr>\n",
       "      <th>4</th>\n",
       "      <td>Colorado</td>\n",
       "      <td>64,221</td>\n",
       "      <td>70,645</td>\n",
       "      <td>284,165</td>\n",
       "    </tr>\n",
       "  </tbody>\n",
       "</table>\n",
       "</div>"
      ],
      "text/plain": [
       "      State Person Offenses 2020 Person Offenses 2021 Property Offenses 2022\n",
       "0     Total            2,235,280            2,939,412              7,849,624\n",
       "1   Alabama                4,384               70,855                130,599\n",
       "2   Arizona               18,440               45,372                127,557\n",
       "3  Arkansas               63,893               66,379                119,718\n",
       "4  Colorado               64,221               70,645                284,165"
      ]
     },
     "execution_count": 67,
     "metadata": {},
     "output_type": "execute_result"
    }
   ],
   "source": [
    "person_crimes_20_21 = pd.merge(person_crimes_2020, person_crimes_2021, on='State')\n",
    "\n",
    "person_crimes_final = pd.merge(person_crimes_20_21, property_crimes_2022, on='State')\n",
    "\n",
    "person_crimes_final.head()"
   ]
  },
  {
   "cell_type": "markdown",
   "metadata": {},
   "source": [
    "Society Crimes Cleanup"
   ]
  },
  {
   "cell_type": "code",
   "execution_count": null,
   "metadata": {},
   "outputs": [],
   "source": [
    "society_crimes_2020 = pd.read_csv('Crimes_Against_Society_Offenses_Offense_Category_by_State_2020.csv', usecols=['State', 'Total Offenses'])\n",
    "society_crimes_2020.rename(columns={'Total Offenses': 'Society Offenses 2020'}, inplace=True)\n",
    "\n",
    "society_crimes_2021 = pd.read_csv('Crimes_Against_Society_Offenses_Offense_Category_by_State_2021.csv', usecols=['State', 'Total Offenses'])\n",
    "society_crimes_2021.rename(columns={'Total Offenses': 'Society Offenses 2021'}, inplace=True)\n",
    "\n",
    "society_crimes_2022 = pd.read_csv('Crimes_Against_Society_Offenses_Offense_Category_by_State_2022.csv', usecols=['State', 'Total Offenses'])\n",
    "society_crimes_2022.rename(columns={'Total Offenses': 'Society Offenses 2022'}, inplace=True)"
   ]
  },
  {
   "cell_type": "code",
   "execution_count": null,
   "metadata": {},
   "outputs": [
    {
     "data": {
      "text/html": [
       "<div>\n",
       "<style scoped>\n",
       "    .dataframe tbody tr th:only-of-type {\n",
       "        vertical-align: middle;\n",
       "    }\n",
       "\n",
       "    .dataframe tbody tr th {\n",
       "        vertical-align: top;\n",
       "    }\n",
       "\n",
       "    .dataframe thead th {\n",
       "        text-align: right;\n",
       "    }\n",
       "</style>\n",
       "<table border=\"1\" class=\"dataframe\">\n",
       "  <thead>\n",
       "    <tr style=\"text-align: right;\">\n",
       "      <th></th>\n",
       "      <th>State</th>\n",
       "      <th>Society Offenses 2020</th>\n",
       "      <th>Society Offenses 2021</th>\n",
       "      <th>Society Offenses 2022</th>\n",
       "    </tr>\n",
       "  </thead>\n",
       "  <tbody>\n",
       "    <tr>\n",
       "      <th>0</th>\n",
       "      <td>Total</td>\n",
       "      <td>1,273,179</td>\n",
       "      <td>1,620,563</td>\n",
       "      <td>1,860,969</td>\n",
       "    </tr>\n",
       "    <tr>\n",
       "      <th>1</th>\n",
       "      <td>Alabama</td>\n",
       "      <td>3,235</td>\n",
       "      <td>30,075</td>\n",
       "      <td>49,895</td>\n",
       "    </tr>\n",
       "    <tr>\n",
       "      <th>2</th>\n",
       "      <td>Arizona</td>\n",
       "      <td>18,239</td>\n",
       "      <td>34,213</td>\n",
       "      <td>45,976</td>\n",
       "    </tr>\n",
       "    <tr>\n",
       "      <th>3</th>\n",
       "      <td>Arkansas</td>\n",
       "      <td>35,720</td>\n",
       "      <td>38,618</td>\n",
       "      <td>34,483</td>\n",
       "    </tr>\n",
       "    <tr>\n",
       "      <th>4</th>\n",
       "      <td>Colorado</td>\n",
       "      <td>31,282</td>\n",
       "      <td>34,379</td>\n",
       "      <td>37,505</td>\n",
       "    </tr>\n",
       "  </tbody>\n",
       "</table>\n",
       "</div>"
      ],
      "text/plain": [
       "      State Society Offenses 2020 Society Offenses 2021 Society Offenses 2022\n",
       "0     Total             1,273,179             1,620,563             1,860,969\n",
       "1   Alabama                 3,235                30,075                49,895\n",
       "2   Arizona                18,239                34,213                45,976\n",
       "3  Arkansas                35,720                38,618                34,483\n",
       "4  Colorado                31,282                34,379                37,505"
      ]
     },
     "execution_count": 69,
     "metadata": {},
     "output_type": "execute_result"
    }
   ],
   "source": [
    "society_crimes_20_21 = pd.merge(society_crimes_2020, society_crimes_2021, on='State')\n",
    "society_crimes_final = pd.merge(society_crimes_20_21, society_crimes_2022, on='State')\n",
    "society_crimes_final.head()"
   ]
  },
  {
   "cell_type": "markdown",
   "metadata": {},
   "source": [
    "Master Merge and Final Cleanup"
   ]
  },
  {
   "cell_type": "code",
   "execution_count": null,
   "metadata": {},
   "outputs": [
    {
     "ename": "NameError",
     "evalue": "name 'pd' is not defined",
     "output_type": "error",
     "traceback": [
      "\u001b[1;31m---------------------------------------------------------------------------\u001b[0m",
      "\u001b[1;31mNameError\u001b[0m                                 Traceback (most recent call last)",
      "\u001b[1;32mc:\\Users\\ianro\\OneDrive\\Documents\\Bootcamp\\UofU-VIRT-DATA-PT-10-2023-U-LOLC\\08-Project-1-Week-2\\1\\Activities\\01-Evr_Installations\\Resources\\CrimeData.ipynb Cell 12\u001b[0m line \u001b[0;36m1\n\u001b[1;32m----> <a href='vscode-notebook-cell:/c%3A/Users/ianro/OneDrive/Documents/Bootcamp/UofU-VIRT-DATA-PT-10-2023-U-LOLC/08-Project-1-Week-2/1/Activities/01-Evr_Installations/Resources/CrimeData.ipynb#X14sZmlsZQ%3D%3D?line=0'>1</a>\u001b[0m person_property_master \u001b[39m=\u001b[39m pd\u001b[39m.\u001b[39mmerge(person_crimes_final, property_crimes_final, on\u001b[39m=\u001b[39m\u001b[39m'\u001b[39m\u001b[39mState\u001b[39m\u001b[39m'\u001b[39m)\n\u001b[0;32m      <a href='vscode-notebook-cell:/c%3A/Users/ianro/OneDrive/Documents/Bootcamp/UofU-VIRT-DATA-PT-10-2023-U-LOLC/08-Project-1-Week-2/1/Activities/01-Evr_Installations/Resources/CrimeData.ipynb#X14sZmlsZQ%3D%3D?line=1'>2</a>\u001b[0m master_crime_df \u001b[39m=\u001b[39m pd\u001b[39m.\u001b[39mmerge(person_property_master, society_crimes_final, on\u001b[39m=\u001b[39m\u001b[39m'\u001b[39m\u001b[39mState\u001b[39m\u001b[39m'\u001b[39m)\n\u001b[0;32m      <a href='vscode-notebook-cell:/c%3A/Users/ianro/OneDrive/Documents/Bootcamp/UofU-VIRT-DATA-PT-10-2023-U-LOLC/08-Project-1-Week-2/1/Activities/01-Evr_Installations/Resources/CrimeData.ipynb#X14sZmlsZQ%3D%3D?line=3'>4</a>\u001b[0m master_crime_df\u001b[39m.\u001b[39mrename(columns\u001b[39m=\u001b[39m{\u001b[39m'\u001b[39m\u001b[39mState\u001b[39m\u001b[39m'\u001b[39m: \u001b[39m'\u001b[39m\u001b[39mLocation\u001b[39m\u001b[39m'\u001b[39m},inplace\u001b[39m=\u001b[39m\u001b[39mTrue\u001b[39;00m)\n",
      "\u001b[1;31mNameError\u001b[0m: name 'pd' is not defined"
     ]
    }
   ],
   "source": [
    "person_property_master = pd.merge(person_crimes_final, property_crimes_final, on='State')\n",
    "master_crime_df = pd.merge(person_property_master, society_crimes_final, on='State')\n",
    "\n",
    "master_crime_df.rename(columns={'State': 'Location'},inplace=True)\n",
    "\n",
    "master_crime_df.head()"
   ]
  }
 ],
 "metadata": {
  "kernelspec": {
   "display_name": "Python 3",
   "language": "python",
   "name": "python3"
  },
  "language_info": {
   "codemirror_mode": {
    "name": "ipython",
    "version": 3
   },
   "file_extension": ".py",
   "mimetype": "text/x-python",
   "name": "python",
   "nbconvert_exporter": "python",
   "pygments_lexer": "ipython3",
   "version": "3.11.5"
  }
 },
 "nbformat": 4,
 "nbformat_minor": 2
}
